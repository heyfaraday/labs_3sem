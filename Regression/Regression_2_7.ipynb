{
 "cells": [
  {
   "cell_type": "code",
   "execution_count": 1,
   "metadata": {
    "collapsed": false
   },
   "outputs": [
    {
     "name": "stdout",
     "output_type": "stream",
     "text": [
      "Populating the interactive namespace from numpy and matplotlib\n"
     ]
    }
   ],
   "source": [
    "# Здесь будет существовать некоторая версия программы для обработки экпериментальных данных\n",
    "# На начальный момент самая работающая версия программы: lab 2.4.1.ipynb\n",
    "\n",
    "%matplotlib inline\n",
    "%pylab inline"
   ]
  },
  {
   "cell_type": "code",
   "execution_count": 2,
   "metadata": {
    "collapsed": false
   },
   "outputs": [],
   "source": [
    "from sklearn import cross_validation, linear_model, metrics\n",
    "import numpy as np\n",
    "import pandas as pd\n",
    "from scipy import optimize as opt"
   ]
  },
  {
   "cell_type": "code",
   "execution_count": 3,
   "metadata": {
    "collapsed": false
   },
   "outputs": [],
   "source": [
    "# For ODR regression\n",
    "\n",
    "import matplotlib.pyplot as plt\n",
    "import scipy.odr as odr"
   ]
  },
  {
   "cell_type": "code",
   "execution_count": 4,
   "metadata": {
    "collapsed": false
   },
   "outputs": [],
   "source": [
    "# Считывание данных\n",
    "\n",
    "source_data = pd.read_csv('Tup.csv', sep=',', header=0) #source_data.csv\n",
    "source_data = source_data.sample(frac=1)"
   ]
  },
  {
   "cell_type": "code",
   "execution_count": 5,
   "metadata": {
    "collapsed": false
   },
   "outputs": [],
   "source": [
    "# Кусок для получения измерений\n",
    "\n",
    "source_data_1 = source_data.H1\n",
    "source_data_2 = source_data.H2\n",
    "source_data_3 = source_data.Temp"
   ]
  },
  {
   "cell_type": "code",
   "execution_count": 6,
   "metadata": {
    "collapsed": false
   },
   "outputs": [],
   "source": [
    "# Кусок для подгона полученных измерений под тип данных\n",
    "\n",
    "data_1 = np.array(source_data_1, dtype=float)     \n",
    "data_2 = np.array(source_data_2, dtype=float)\n",
    "data_3 = np.array(source_data_3, dtype=float)"
   ]
  },
  {
   "cell_type": "code",
   "execution_count": 7,
   "metadata": {
    "collapsed": false
   },
   "outputs": [],
   "source": [
    "# Кусок для подгона полученных измерений под апроксимацию\n",
    "\n",
    "data_y = data_2 - data_1\n",
    "data_x = (data_3 + 273.15)\n",
    "\n",
    "data_y = np.log(data_y)\n",
    "data_x = np.reciprocal(data_x)\n"
   ]
  },
  {
   "cell_type": "code",
   "execution_count": 8,
   "metadata": {
    "collapsed": false
   },
   "outputs": [
    {
     "name": "stdout",
     "output_type": "stream",
     "text": [
      "[ 0.00319336  0.00326637  0.0033653   0.0032987   0.00322425  0.00320359\n",
      "  0.00325574  0.00335402  0.00324517  0.00321388  0.00328785  0.00330961\n",
      "  0.0033428   0.00323468  0.00333167  0.0033206   0.00327708]\n",
      "[ 1.69377906  1.327075    0.85866162  1.16315081  1.54756251  1.65822808\n",
      "  1.38629436  0.87129337  1.44926916  1.59330853  1.20896035  1.10856262\n",
      "  0.9439059   1.5018527   0.99694863  1.0612565   1.26412673]\n"
     ]
    }
   ],
   "source": [
    "print data_x\n",
    "print data_y"
   ]
  },
  {
   "cell_type": "code",
   "execution_count": 9,
   "metadata": {
    "collapsed": false
   },
   "outputs": [],
   "source": [
    "# Кусок для получения ошибки измерений\n",
    "\n",
    "#  source_data_error_1 = \n",
    "# source_data_error_2 = \n",
    "# source_data_error_3 = "
   ]
  },
  {
   "cell_type": "code",
   "execution_count": 10,
   "metadata": {
    "collapsed": false
   },
   "outputs": [
    {
     "name": "stdout",
     "output_type": "stream",
     "text": [
      "[ 0.0001  0.0001  0.0001  0.0001  0.0001  0.0001  0.0001  0.0001  0.0001\n",
      "  0.0001  0.0001  0.0001  0.0001  0.0001  0.0001  0.0001  0.0001]\n",
      "[ 0.01  0.01  0.01  0.01  0.01  0.01  0.01  0.01  0.01  0.01  0.01  0.01\n",
      "  0.01  0.01  0.01  0.01  0.01]\n"
     ]
    }
   ],
   "source": [
    "# Кусок для подгона полученных ошибок измерений под тип данных (подумать о глубокой реализации)\n",
    "\n",
    "data_error_x = 0.0001*np.ones((1,17))\n",
    "data_error_y = 0.01*np.ones((1,17))\n",
    "print data_error_x[0][:]\n",
    "print data_error_y[0][:]"
   ]
  },
  {
   "cell_type": "code",
   "execution_count": 11,
   "metadata": {
    "collapsed": false
   },
   "outputs": [],
   "source": [
    "# Подгон формата данных под работу\n",
    "\n",
    "data_x = np.array(data_x).reshape((len(data_x), 1))\n",
    "\n",
    "# Для многомерной регрессии\n",
    "\n",
    "#data_4 = np.array(data_4).reshape((len(data_4), 1))\n",
    "#data_x = np.hstack([data_x, data_4])"
   ]
  },
  {
   "cell_type": "code",
   "execution_count": 12,
   "metadata": {
    "collapsed": false
   },
   "outputs": [
    {
     "data": {
      "text/plain": [
       "<matplotlib.collections.PathCollection at 0x1168ab550>"
      ]
     },
     "execution_count": 12,
     "metadata": {},
     "output_type": "execute_result"
    },
    {
     "data": {
      "image/png": "[encoded data removed]",
      "text/plain": [
       "<matplotlib.figure.Figure at 0x109daac10>"
      ]
     },
     "metadata": {},
     "output_type": "display_data"
    }
   ],
   "source": [
    "# График\n",
    "\n",
    "pylab.scatter(map(lambda x:1000*x[0], data_x), data_y, color = 'r')"
   ]
  },
  {
   "cell_type": "markdown",
   "metadata": {},
   "source": [
    "#### LinearRegression"
   ]
  },
  {
   "cell_type": "code",
   "execution_count": 13,
   "metadata": {
    "collapsed": false
   },
   "outputs": [],
   "source": [
    "# Обучение\n",
    "\n",
    "linear_regressor = linear_model.LinearRegression()\n",
    "linear_regressor.fit(data_x, data_y)\n",
    "regressor_predictions = linear_regressor.predict(data_x)"
   ]
  },
  {
   "cell_type": "code",
   "execution_count": 14,
   "metadata": {
    "collapsed": false
   },
   "outputs": [
    {
     "name": "stdout",
     "output_type": "stream",
     "text": [
      "y = 17.86 + (-5060.63)*x\n"
     ]
    }
   ],
   "source": [
    "# Результаты линейной регрессии\n",
    "print \"y = {:.2f} + ({:.2f})*x\".format(linear_regressor.intercept_, linear_regressor.coef_[0])"
   ]
  },
  {
   "cell_type": "code",
   "execution_count": 15,
   "metadata": {
    "collapsed": false
   },
   "outputs": [
    {
     "name": "stdout",
     "output_type": "stream",
     "text": [
      "[ 1.70054922  1.33104821  0.83039527  1.1674669   1.54423398  1.64877799\n",
      "  1.38486521  0.887516    1.43833292  1.59667398  1.22235256  1.11221795\n",
      "  0.94425484  1.49145473  1.0006156   1.05660207  1.27687849]\n",
      "[ 1.69377906  1.327075    0.85866162  1.16315081  1.54756251  1.65822808\n",
      "  1.38629436  0.87129337  1.44926916  1.59330853  1.20896035  1.10856262\n",
      "  0.9439059   1.5018527   0.99694863  1.0612565   1.26412673]\n"
     ]
    }
   ],
   "source": [
    "# Итоговые значения линейной регрессии\n",
    "\n",
    "print regressor_predictions\n",
    "print data_y"
   ]
  },
  {
   "cell_type": "code",
   "execution_count": 16,
   "metadata": {
    "collapsed": false
   },
   "outputs": [
    {
     "data": {
      "text/plain": [
       "[<matplotlib.lines.Line2D at 0x11685f310>]"
      ]
     },
     "execution_count": 16,
     "metadata": {},
     "output_type": "execute_result"
    },
    {
     "data": {
      "image/png": "[encoded data removed]",
      "text/plain": [
       "<matplotlib.figure.Figure at 0x11685f4d0>"
      ]
     },
     "metadata": {},
     "output_type": "display_data"
    }
   ],
   "source": [
    "# График результата\n",
    "\n",
    "regressor_predictions = np.array(regressor_predictions).reshape((len(regressor_predictions), 1))\n",
    "pylab.scatter(map(lambda x:2000*x[0], data_x), data_y, color = 'r')\n",
    "pylab.plot(map(lambda x:2000*x[0], data_x), regressor_predictions, color = 'b')"
   ]
  },
  {
   "cell_type": "markdown",
   "metadata": {},
   "source": [
    "#### Lasso (L1)"
   ]
  },
  {
   "cell_type": "code",
   "execution_count": 17,
   "metadata": {
    "collapsed": false
   },
   "outputs": [],
   "source": [
    "# Обучение (alpha - параметр L1 регуляризации)\n",
    "\n",
    "lasso_regressor = linear_model.Lasso(random_state = 3, alpha=0.0000001)\n",
    "lasso_regressor.fit(data_x, data_y)\n",
    "lasso_predictions = lasso_regressor.predict(data_x)"
   ]
  },
  {
   "cell_type": "code",
   "execution_count": 18,
   "metadata": {
    "collapsed": false
   },
   "outputs": [
    {
     "name": "stdout",
     "output_type": "stream",
     "text": [
      "y = 17.74 + (-5024.54)*x\n"
     ]
    }
   ],
   "source": [
    "# Результаты лассо регрессии \n",
    "\n",
    "print \"y = {:.2f} + ({:.2f})*x\".format(lasso_regressor.intercept_, lasso_regressor.coef_[0])"
   ]
  },
  {
   "cell_type": "code",
   "execution_count": 19,
   "metadata": {
    "collapsed": false
   },
   "outputs": [
    {
     "name": "stdout",
     "output_type": "stream",
     "text": [
      "[ 1.69749754  1.33063144  0.83354863  1.16821662  1.54229698  1.64609549\n",
      "  1.38406467  0.89026203  1.4371511   1.59436304  1.22271089  1.11336164\n",
      "  0.94659627  1.4898941   1.00255513  1.05814236  1.276848  ]\n",
      "[ 1.69377906  1.327075    0.85866162  1.16315081  1.54756251  1.65822808\n",
      "  1.38629436  0.87129337  1.44926916  1.59330853  1.20896035  1.10856262\n",
      "  0.9439059   1.5018527   0.99694863  1.0612565   1.26412673]\n"
     ]
    }
   ],
   "source": [
    "# Итоговые значения лассо регрессии\n",
    "\n",
    "print lasso_predictions\n",
    "print data_y"
   ]
  },
  {
   "cell_type": "code",
   "execution_count": 20,
   "metadata": {
    "collapsed": false
   },
   "outputs": [
    {
     "data": {
      "text/plain": [
       "[<matplotlib.lines.Line2D at 0x116f19f50>]"
      ]
     },
     "execution_count": 20,
     "metadata": {},
     "output_type": "execute_result"
    },
    {
     "data": {
      "image/png": "[encoded data removed]",
      "text/plain": [
       "<matplotlib.figure.Figure at 0x116f19e90>"
      ]
     },
     "metadata": {},
     "output_type": "display_data"
    }
   ],
   "source": [
    "# График результата\n",
    "\n",
    "lasso_predictions = np.array(lasso_predictions).reshape((len(lasso_predictions), 1))\n",
    "pylab.scatter(map(lambda x:2000*x[0], data_x), data_y, color = 'r')\n",
    "pylab.plot(map(lambda x:2000*x[0], data_x), lasso_predictions, color = 'b')"
   ]
  },
  {
   "cell_type": "markdown",
   "metadata": {},
   "source": [
    "#### ElasticNet (L2)"
   ]
  },
  {
   "cell_type": "code",
   "execution_count": 21,
   "metadata": {
    "collapsed": false
   },
   "outputs": [
    {
     "name": "stderr",
     "output_type": "stream",
     "text": [
      "/Users/heyfaraday/anaconda/lib/python2.7/site-packages/sklearn/linear_model/coordinate_descent.py:454: UserWarning: Coordinate descent with alpha=0 may lead to unexpected results and is discouraged.\n",
      "  positive)\n",
      "/Users/heyfaraday/anaconda/lib/python2.7/site-packages/sklearn/linear_model/coordinate_descent.py:466: ConvergenceWarning: Objective did not converge. You might want to increase the number of iterations\n",
      "  ConvergenceWarning)\n"
     ]
    }
   ],
   "source": [
    "# Обучение (alpha - параметр L1 регуляризации)\n",
    "\n",
    "elastic_regressor = linear_model.ElasticNet(random_state = 3, alpha=0.0000000001, l1_ratio = 0.0)\n",
    "elastic_regressor.fit(data_x, data_y)\n",
    "elastic_predictions = elastic_regressor.predict(data_x)"
   ]
  },
  {
   "cell_type": "code",
   "execution_count": 22,
   "metadata": {
    "collapsed": false
   },
   "outputs": [
    {
     "name": "stdout",
     "output_type": "stream",
     "text": [
      "y = 17.28 + (-4884.36)*x\n"
     ]
    }
   ],
   "source": [
    "# Результаты ElasticNet регрессии \n",
    "\n",
    "print \"y = {:.2f} + ({:.2f})*x\".format(elastic_regressor.intercept_, elastic_regressor.coef_[0])"
   ]
  },
  {
   "cell_type": "code",
   "execution_count": 23,
   "metadata": {
    "collapsed": false
   },
   "outputs": [
    {
     "name": "stdout",
     "output_type": "stream",
     "text": [
      "[ 1.68564373  1.32901252  0.84579743  1.17112879  1.53477299  1.6356757\n",
      "  1.38095507  0.90092863  1.43256048  1.58538649  1.22410276  1.11780416\n",
      "  0.95569124  1.48383205  1.01008895  1.0641254   1.27672954]\n",
      "[ 1.69377906  1.327075    0.85866162  1.16315081  1.54756251  1.65822808\n",
      "  1.38629436  0.87129337  1.44926916  1.59330853  1.20896035  1.10856262\n",
      "  0.9439059   1.5018527   0.99694863  1.0612565   1.26412673]\n"
     ]
    }
   ],
   "source": [
    "# Итоговые значения ElasticNet регрессии\n",
    "\n",
    "print elastic_predictions\n",
    "print data_y"
   ]
  },
  {
   "cell_type": "code",
   "execution_count": 24,
   "metadata": {
    "collapsed": false
   },
   "outputs": [
    {
     "data": {
      "text/plain": [
       "[<matplotlib.lines.Line2D at 0x11730a5d0>]"
      ]
     },
     "execution_count": 24,
     "metadata": {},
     "output_type": "execute_result"
    },
    {
     "data": {
      "image/png": "[encoded data removed]",
      "text/plain": [
       "<matplotlib.figure.Figure at 0x11730a590>"
      ]
     },
     "metadata": {},
     "output_type": "display_data"
    }
   ],
   "source": [
    "# График результата\n",
    "\n",
    "elastic_predictions = np.array(elastic_predictions).reshape((len(elastic_predictions), 1))\n",
    "pylab.scatter(map(lambda x:2000*x[0], data_x), data_y, color = 'r')\n",
    "pylab.plot(map(lambda x:2000*x[0], data_x), elastic_predictions, color = 'b')"
   ]
  },
  {
   "cell_type": "markdown",
   "metadata": {},
   "source": [
    "#### Curve fit (without sigma)"
   ]
  },
  {
   "cell_type": "code",
   "execution_count": 25,
   "metadata": {
    "collapsed": false
   },
   "outputs": [],
   "source": [
    "data_x = np.reshape(data_x, (1, len(data_x)))"
   ]
  },
  {
   "cell_type": "code",
   "execution_count": 26,
   "metadata": {
    "collapsed": false
   },
   "outputs": [],
   "source": [
    "# Определение функции ошибки\n",
    "\n",
    "def f(x, a, b):\n",
    "    return a + b*x"
   ]
  },
  {
   "cell_type": "code",
   "execution_count": 27,
   "metadata": {
    "collapsed": false
   },
   "outputs": [],
   "source": [
    "# Оптимизация\n",
    "\n",
    "parameters_opt, parameters_cov = opt.curve_fit(f, data_x[0], data_y)"
   ]
  },
  {
   "cell_type": "code",
   "execution_count": 28,
   "metadata": {
    "collapsed": false
   },
   "outputs": [
    {
     "name": "stdout",
     "output_type": "stream",
     "text": [
      "y  =  17.861  +      (-5060.626)*x\n",
      "  (+-)0.169   +  (+-)(51.504)*x\n"
     ]
    }
   ],
   "source": [
    "# Результаты оптимизации\n",
    "\n",
    "print \"y  =  {:.3f}  +      ({:.3f})*x\".format(parameters_opt[0], parameters_opt[1])\n",
    "print \"  (+-){:.3f}   +  (+-)({:.3f})*x\".format(np.sqrt(np.diag(parameters_cov))[0], \n",
    "                                                np.sqrt(np.diag(parameters_cov))[1])"
   ]
  },
  {
   "cell_type": "markdown",
   "metadata": {},
   "source": [
    "#### Curve fit (with sigma)"
   ]
  },
  {
   "cell_type": "code",
   "execution_count": 29,
   "metadata": {
    "collapsed": true
   },
   "outputs": [],
   "source": [
    "# Определение функции ошибки\n",
    "\n",
    "def f(x, a, b):\n",
    "    return a + b*x"
   ]
  },
  {
   "cell_type": "code",
   "execution_count": 30,
   "metadata": {
    "collapsed": false
   },
   "outputs": [],
   "source": [
    "# Оптимизация \n",
    "\n",
    "parameters_sigma_opt, parameters_sigma_cov = opt.curve_fit(f, data_x[0], data_y, sigma = data_error_y[0], absolute_sigma=True)"
   ]
  },
  {
   "cell_type": "code",
   "execution_count": 31,
   "metadata": {
    "collapsed": false
   },
   "outputs": [
    {
     "name": "stdout",
     "output_type": "stream",
     "text": [
      "y  =  17.861  +      (-5060.626)*x\n",
      "  (+-)0.151   +  (+-)(46.074)*x\n"
     ]
    }
   ],
   "source": [
    "# Результаты оптимизации\n",
    "\n",
    "print \"y  =  {:.3f}  +      ({:.3f})*x\".format(parameters_sigma_opt[0], parameters_sigma_opt[1])\n",
    "print \"  (+-){:.3f}   +  (+-)({:.3f})*x\".format(np.sqrt(np.diag(parameters_sigma_cov))[0], \n",
    "                                                np.sqrt(np.diag(parameters_sigma_cov))[1])"
   ]
  },
  {
   "cell_type": "markdown",
   "metadata": {},
   "source": [
    "#### Orthogonal distance regression"
   ]
  },
  {
   "cell_type": "code",
   "execution_count": 32,
   "metadata": {
    "collapsed": false
   },
   "outputs": [
    {
     "name": "stdout",
     "output_type": "stream",
     "text": [
      "Beta: [   17.88670296 -5068.48590937]\n",
      "Beta Std Error: [  0.16911006  51.58399266]\n",
      "Beta Covariance: [[  5.87234830e+01  -1.79102397e+04]\n",
      " [ -1.79102397e+04   5.46390081e+06]]\n",
      "Residual Variance: 0.000486997914639\n",
      "Inverse Condition #: 0.000509565967828\n",
      "Reason(s) for Halting:\n",
      "  Sum of squares convergence\n"
     ]
    },
    {
     "data": {
      "image/png": "[encoded data removed]",
      "text/plain": [
       "<matplotlib.figure.Figure at 0x1174f9c90>"
      ]
     },
     "metadata": {},
     "output_type": "display_data"
    },
    {
     "data": {
      "image/png": "[encoded data removed]",
      "text/plain": [
       "<matplotlib.figure.Figure at 0x1175a3910>"
      ]
     },
     "metadata": {},
     "output_type": "display_data"
    },
    {
     "data": {
      "image/png": "[encoded data removed]",
      "text/plain": [
       "<matplotlib.figure.Figure at 0x1176ed710>"
      ]
     },
     "metadata": {},
     "output_type": "display_data"
    }
   ],
   "source": [
    "def linear_func(b, x):\n",
    "     return b[1]*x + b[0]\n",
    "\n",
    "linear_model = odr.Model(linear_func)\n",
    "\n",
    "data = odr.RealData(data_x[0][:], data_y, sx=data_error_x, sy=data_error_y)\n",
    "\n",
    "my_odr = odr.ODR(data, linear_model, beta0=[0., 1.])\n",
    "\n",
    "out = my_odr.run()\n",
    "\n",
    "out.pprint()\n",
    "'''Beta: [ 1.01781493  0.48498006]\n",
    "Beta Std Error: [ 0.00390799  0.03660941]\n",
    "Beta Covariance: [[ 0.00241322 -0.01420883]\n",
    " [-0.01420883  0.21177597]]\n",
    "Residual Variance: 0.00632861634898189\n",
    "Inverse Condition #: 0.4195196193536024\n",
    "Reason(s) for Halting:\n",
    "  Sum of squares convergence'''\n",
    "\n",
    "x_fit = np.linspace(0.99*min(data_x[0]), 1.01*max(data_x[0]), 10000)\n",
    "\n",
    "plt.errorbar(data_x[0][:], data_y, xerr=data_error_x[0][:], yerr=data_error_y[0][:], linestyle='None', marker='x')\n",
    "plt.plot(x_fit, linear_func(out.beta, x_fit))\n",
    "plt.show()\n",
    "\n",
    "out.beta = out.beta + out.sd_beta\n",
    "\n",
    "plt.errorbar(data_x[0][:], data_y, xerr=data_error_x[0][:], yerr=data_error_y[0][:], linestyle='None', marker='x')\n",
    "plt.plot(x_fit, linear_func(out.beta, x_fit))\n",
    "plt.show()\n",
    "\n",
    "out.beta = out.beta - 2*out.sd_beta\n",
    "\n",
    "plt.errorbar(data_x[0][:], data_y, xerr=data_error_x[0][:], yerr=data_error_y[0][:], linestyle='None', marker='x')\n",
    "plt.plot(x_fit, linear_func(out.beta, x_fit))\n",
    "plt.show()"
   ]
  },
  {
   "cell_type": "markdown",
   "metadata": {},
   "source": [
    "#### Error and statistic"
   ]
  },
  {
   "cell_type": "code",
   "execution_count": 33,
   "metadata": {
    "collapsed": false
   },
   "outputs": [
    {
     "name": "stdout",
     "output_type": "stream",
     "text": [
      "Абсолютная ошибка: 0.00805444204947\n",
      "Среднеквадратичная ошибка: 0.0105005152871\n",
      "Доля объяснённой ошибки: 0.998448717732\n",
      "Медианная ошибка: 0.00465443316931\n",
      "R2 scorer: 0.998448717732\n"
     ]
    }
   ],
   "source": [
    "# Ошибки линейной регрессии\n",
    "\n",
    "print \"Абсолютная ошибка:\", metrics.mean_absolute_error(data_y, regressor_predictions)\n",
    "print \"Среднеквадратичная ошибка:\", sqrt(metrics.mean_squared_error(data_y, regressor_predictions))\n",
    "print \"Доля объяснённой ошибки:\", metrics.explained_variance_score(data_y, regressor_predictions)\n",
    "print \"Медианная ошибка:\", metrics.median_absolute_error(data_y, regressor_predictions)\n",
    "print \"R2 scorer:\", metrics.r2_score(data_y, regressor_predictions)"
   ]
  },
  {
   "cell_type": "code",
   "execution_count": 34,
   "metadata": {
    "collapsed": false
   },
   "outputs": [
    {
     "name": "stdout",
     "output_type": "stream",
     "text": [
      "Абсолютная ошибка: 0.00846254059526\n",
      "Среднеквадратичная ошибка: 0.0106709668956\n",
      "Доля объяснённой ошибки: 0.998397946\n",
      "Медианная ошибка: 0.00526552437756\n",
      "R2 scorer: 0.998397946\n"
     ]
    }
   ],
   "source": [
    "# Ошибки лассо регрессии\n",
    "\n",
    "print \"Абсолютная ошибка:\", metrics.mean_absolute_error(data_y, lasso_predictions)\n",
    "print \"Среднеквадратичная ошибка:\", sqrt(metrics.mean_squared_error(data_y, lasso_predictions))\n",
    "print \"Доля объяснённой ошибки:\", metrics.explained_variance_score(data_y, lasso_predictions)\n",
    "print \"Медианная ошибка:\", metrics.median_absolute_error(data_y, lasso_predictions)\n",
    "print \"R2 scorer:\", metrics.r2_score(data_y, lasso_predictions)"
   ]
  },
  {
   "cell_type": "code",
   "execution_count": 35,
   "metadata": {
    "collapsed": false
   },
   "outputs": [
    {
     "name": "stdout",
     "output_type": "stream",
     "text": [
      "Абсолютная ошибка: 0.0122743631584\n",
      "Среднеквадратичная ошибка: 0.0140126342538\n",
      "Доля объяснённой ошибки: 0.997237456162\n",
      "Медианная ошибка: 0.0126028160637\n",
      "R2 scorer: 0.997237456162\n"
     ]
    }
   ],
   "source": [
    "# Ошибки ElasticNet регрессии\n",
    "\n",
    "print \"Абсолютная ошибка:\", metrics.mean_absolute_error(data_y, elastic_predictions)\n",
    "print \"Среднеквадратичная ошибка:\", sqrt(metrics.mean_squared_error(data_y, elastic_predictions))\n",
    "print \"Доля объяснённой ошибки:\", metrics.explained_variance_score(data_y, elastic_predictions)\n",
    "print \"Медианная ошибка:\", metrics.median_absolute_error(data_y, elastic_predictions)\n",
    "print \"R2 scorer:\", metrics.r2_score(data_y, elastic_predictions)"
   ]
  },
  {
   "cell_type": "code",
   "execution_count": 36,
   "metadata": {
    "collapsed": true
   },
   "outputs": [],
   "source": [
    "# Статистики для curve_fit и ODR приведены выше"
   ]
  },
  {
   "cell_type": "code",
   "execution_count": 43,
   "metadata": {
    "collapsed": false
   },
   "outputs": [
    {
     "ename": "ValueError",
     "evalue": "Unknown label type: (array([ 1.69377906,  1.327075  ,  0.85866162,  1.16315081,  1.54756251,\n        1.65822808,  1.38629436,  0.87129337,  1.44926916,  1.59330853,\n        1.20896035,  1.10856262,  0.9439059 ,  1.5018527 ,  0.99694863,\n        1.0612565 ,  1.26412673]),)",
     "output_type": "error",
     "traceback": [
      "\u001b[0;31m---------------------------------------------------------------------------\u001b[0m",
      "\u001b[0;31mValueError\u001b[0m                                Traceback (most recent call last)",
      "\u001b[0;32m<ipython-input-43-77278cce6185>\u001b[0m in \u001b[0;36m<module>\u001b[0;34m()\u001b[0m\n\u001b[0;32m----> 1\u001b[0;31m \u001b[0mfea\u001b[0m\u001b[0;34m.\u001b[0m\u001b[0mchi2\u001b[0m\u001b[0;34m(\u001b[0m\u001b[0mdata_x\u001b[0m\u001b[0;34m,\u001b[0m \u001b[0mdata_y\u001b[0m\u001b[0;34m)\u001b[0m\u001b[0;34m\u001b[0m\u001b[0m\n\u001b[0m",
      "\u001b[0;32m/Users/heyfaraday/anaconda/lib/python2.7/site-packages/sklearn/feature_selection/univariate_selection.pyc\u001b[0m in \u001b[0;36mchi2\u001b[0;34m(X, y)\u001b[0m\n\u001b[1;32m    214\u001b[0m         \u001b[0;32mraise\u001b[0m \u001b[0mValueError\u001b[0m\u001b[0;34m(\u001b[0m\u001b[0;34m\"Input X must be non-negative.\"\u001b[0m\u001b[0;34m)\u001b[0m\u001b[0;34m\u001b[0m\u001b[0m\n\u001b[1;32m    215\u001b[0m \u001b[0;34m\u001b[0m\u001b[0m\n\u001b[0;32m--> 216\u001b[0;31m     \u001b[0mY\u001b[0m \u001b[0;34m=\u001b[0m \u001b[0mLabelBinarizer\u001b[0m\u001b[0;34m(\u001b[0m\u001b[0;34m)\u001b[0m\u001b[0;34m.\u001b[0m\u001b[0mfit_transform\u001b[0m\u001b[0;34m(\u001b[0m\u001b[0my\u001b[0m\u001b[0;34m)\u001b[0m\u001b[0;34m\u001b[0m\u001b[0m\n\u001b[0m\u001b[1;32m    217\u001b[0m     \u001b[0;32mif\u001b[0m \u001b[0mY\u001b[0m\u001b[0;34m.\u001b[0m\u001b[0mshape\u001b[0m\u001b[0;34m[\u001b[0m\u001b[0;36m1\u001b[0m\u001b[0;34m]\u001b[0m \u001b[0;34m==\u001b[0m \u001b[0;36m1\u001b[0m\u001b[0;34m:\u001b[0m\u001b[0;34m\u001b[0m\u001b[0m\n\u001b[1;32m    218\u001b[0m         \u001b[0mY\u001b[0m \u001b[0;34m=\u001b[0m \u001b[0mnp\u001b[0m\u001b[0;34m.\u001b[0m\u001b[0mappend\u001b[0m\u001b[0;34m(\u001b[0m\u001b[0;36m1\u001b[0m \u001b[0;34m-\u001b[0m \u001b[0mY\u001b[0m\u001b[0;34m,\u001b[0m \u001b[0mY\u001b[0m\u001b[0;34m,\u001b[0m \u001b[0maxis\u001b[0m\u001b[0;34m=\u001b[0m\u001b[0;36m1\u001b[0m\u001b[0;34m)\u001b[0m\u001b[0;34m\u001b[0m\u001b[0m\n",
      "\u001b[0;32m/Users/heyfaraday/anaconda/lib/python2.7/site-packages/sklearn/base.pyc\u001b[0m in \u001b[0;36mfit_transform\u001b[0;34m(self, X, y, **fit_params)\u001b[0m\n\u001b[1;32m    453\u001b[0m         \u001b[0;32mif\u001b[0m \u001b[0my\u001b[0m \u001b[0;32mis\u001b[0m \u001b[0mNone\u001b[0m\u001b[0;34m:\u001b[0m\u001b[0;34m\u001b[0m\u001b[0m\n\u001b[1;32m    454\u001b[0m             \u001b[0;31m# fit method of arity 1 (unsupervised transformation)\u001b[0m\u001b[0;34m\u001b[0m\u001b[0;34m\u001b[0m\u001b[0m\n\u001b[0;32m--> 455\u001b[0;31m             \u001b[0;32mreturn\u001b[0m \u001b[0mself\u001b[0m\u001b[0;34m.\u001b[0m\u001b[0mfit\u001b[0m\u001b[0;34m(\u001b[0m\u001b[0mX\u001b[0m\u001b[0;34m,\u001b[0m \u001b[0;34m**\u001b[0m\u001b[0mfit_params\u001b[0m\u001b[0;34m)\u001b[0m\u001b[0;34m.\u001b[0m\u001b[0mtransform\u001b[0m\u001b[0;34m(\u001b[0m\u001b[0mX\u001b[0m\u001b[0;34m)\u001b[0m\u001b[0;34m\u001b[0m\u001b[0m\n\u001b[0m\u001b[1;32m    456\u001b[0m         \u001b[0;32melse\u001b[0m\u001b[0;34m:\u001b[0m\u001b[0;34m\u001b[0m\u001b[0m\n\u001b[1;32m    457\u001b[0m             \u001b[0;31m# fit method of arity 2 (supervised transformation)\u001b[0m\u001b[0;34m\u001b[0m\u001b[0;34m\u001b[0m\u001b[0m\n",
      "\u001b[0;32m/Users/heyfaraday/anaconda/lib/python2.7/site-packages/sklearn/preprocessing/label.pyc\u001b[0m in \u001b[0;36mfit\u001b[0;34m(self, y)\u001b[0m\n\u001b[1;32m    306\u001b[0m \u001b[0;34m\u001b[0m\u001b[0m\n\u001b[1;32m    307\u001b[0m         \u001b[0mself\u001b[0m\u001b[0;34m.\u001b[0m\u001b[0msparse_input_\u001b[0m \u001b[0;34m=\u001b[0m \u001b[0msp\u001b[0m\u001b[0;34m.\u001b[0m\u001b[0missparse\u001b[0m\u001b[0;34m(\u001b[0m\u001b[0my\u001b[0m\u001b[0;34m)\u001b[0m\u001b[0;34m\u001b[0m\u001b[0m\n\u001b[0;32m--> 308\u001b[0;31m         \u001b[0mself\u001b[0m\u001b[0;34m.\u001b[0m\u001b[0mclasses_\u001b[0m \u001b[0;34m=\u001b[0m \u001b[0munique_labels\u001b[0m\u001b[0;34m(\u001b[0m\u001b[0my\u001b[0m\u001b[0;34m)\u001b[0m\u001b[0;34m\u001b[0m\u001b[0m\n\u001b[0m\u001b[1;32m    309\u001b[0m         \u001b[0;32mreturn\u001b[0m \u001b[0mself\u001b[0m\u001b[0;34m\u001b[0m\u001b[0m\n\u001b[1;32m    310\u001b[0m \u001b[0;34m\u001b[0m\u001b[0m\n",
      "\u001b[0;32m/Users/heyfaraday/anaconda/lib/python2.7/site-packages/sklearn/utils/multiclass.pyc\u001b[0m in \u001b[0;36munique_labels\u001b[0;34m(*ys)\u001b[0m\n\u001b[1;32m     97\u001b[0m     \u001b[0m_unique_labels\u001b[0m \u001b[0;34m=\u001b[0m \u001b[0m_FN_UNIQUE_LABELS\u001b[0m\u001b[0;34m.\u001b[0m\u001b[0mget\u001b[0m\u001b[0;34m(\u001b[0m\u001b[0mlabel_type\u001b[0m\u001b[0;34m,\u001b[0m \u001b[0mNone\u001b[0m\u001b[0;34m)\u001b[0m\u001b[0;34m\u001b[0m\u001b[0m\n\u001b[1;32m     98\u001b[0m     \u001b[0;32mif\u001b[0m \u001b[0;32mnot\u001b[0m \u001b[0m_unique_labels\u001b[0m\u001b[0;34m:\u001b[0m\u001b[0;34m\u001b[0m\u001b[0m\n\u001b[0;32m---> 99\u001b[0;31m         \u001b[0;32mraise\u001b[0m \u001b[0mValueError\u001b[0m\u001b[0;34m(\u001b[0m\u001b[0;34m\"Unknown label type: %s\"\u001b[0m \u001b[0;34m%\u001b[0m \u001b[0mrepr\u001b[0m\u001b[0;34m(\u001b[0m\u001b[0mys\u001b[0m\u001b[0;34m)\u001b[0m\u001b[0;34m)\u001b[0m\u001b[0;34m\u001b[0m\u001b[0m\n\u001b[0m\u001b[1;32m    100\u001b[0m \u001b[0;34m\u001b[0m\u001b[0m\n\u001b[1;32m    101\u001b[0m     \u001b[0mys_labels\u001b[0m \u001b[0;34m=\u001b[0m \u001b[0mset\u001b[0m\u001b[0;34m(\u001b[0m\u001b[0mchain\u001b[0m\u001b[0;34m.\u001b[0m\u001b[0mfrom_iterable\u001b[0m\u001b[0;34m(\u001b[0m\u001b[0m_unique_labels\u001b[0m\u001b[0;34m(\u001b[0m\u001b[0my\u001b[0m\u001b[0;34m)\u001b[0m \u001b[0;32mfor\u001b[0m \u001b[0my\u001b[0m \u001b[0;32min\u001b[0m \u001b[0mys\u001b[0m\u001b[0;34m)\u001b[0m\u001b[0;34m)\u001b[0m\u001b[0;34m\u001b[0m\u001b[0m\n",
      "\u001b[0;31mValueError\u001b[0m: Unknown label type: (array([ 1.69377906,  1.327075  ,  0.85866162,  1.16315081,  1.54756251,\n        1.65822808,  1.38629436,  0.87129337,  1.44926916,  1.59330853,\n        1.20896035,  1.10856262,  0.9439059 ,  1.5018527 ,  0.99694863,\n        1.0612565 ,  1.26412673]),)"
     ]
    }
   ],
   "source": [
    "fea.chi2(data_x, data_y)"
   ]
  },
  {
   "cell_type": "code",
   "execution_count": 42,
   "metadata": {
    "collapsed": false
   },
   "outputs": [],
   "source": [
    "# sklearn.feature_selection.chi2 или наподобии критерия Пирсона для регресси"
   ]
  },
  {
   "cell_type": "markdown",
   "metadata": {},
   "source": [
    "#### Хотелось бы, но работает и так неплохо"
   ]
  },
  {
   "cell_type": "code",
   "execution_count": 37,
   "metadata": {
    "collapsed": true
   },
   "outputs": [],
   "source": [
    "# Python 3\n",
    "# Отмаштабировать значения в регрессии"
   ]
  }
 ],
 "metadata": {
  "kernelspec": {
   "display_name": "Python 2",
   "language": "python",
   "name": "python2"
  },
  "language_info": {
   "codemirror_mode": {
    "name": "ipython",
    "version": 2
   },
   "file_extension": ".py",
   "mimetype": "text/x-python",
   "name": "python",
   "nbconvert_exporter": "python",
   "pygments_lexer": "ipython2",
   "version": "2.7.12"
  }
 },
 "nbformat": 4,
 "nbformat_minor": 0
}
