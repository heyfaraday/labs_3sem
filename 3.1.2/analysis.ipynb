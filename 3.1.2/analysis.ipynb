{
 "cells": [
  {
   "cell_type": "code",
   "execution_count": 2,
   "metadata": {
    "collapsed": false
   },
   "outputs": [],
   "source": [
    "import plotly.plotly as py\n",
    "import plotly.graph_objs as go      \n",
    "\n",
    "import pandas as pd\n",
    "import math\n",
    "import numpy as np\n",
    "\n",
    "import statsmodels\n",
    "import scipy as sc\n",
    "import statsmodels.formula.api as smf\n",
    "import statsmodels.stats.api as sms\n",
    "from statsmodels.graphics.regressionplots import plot_leverage_resid2\n",
    "import matplotlib.pyplot as plt"
   ]
  },
  {
   "cell_type": "code",
   "execution_count": 3,
   "metadata": {
    "collapsed": true
   },
   "outputs": [],
   "source": [
    "data = pd.read_csv('experiment.csv')"
   ]
  },
  {
   "cell_type": "code",
   "execution_count": 4,
   "metadata": {
    "collapsed": false
   },
   "outputs": [
    {
     "name": "stdout",
     "output_type": "stream",
     "text": [
      "    index  feature1  feature2\n",
      "0       1      0.07      0.27\n",
      "1       2      0.12      0.35\n",
      "2       3      0.20      0.45\n",
      "3       4      0.27      0.52\n",
      "4       5      0.32      0.57\n",
      "5       6      0.37      0.61\n",
      "6       7      0.42      0.65\n",
      "7       8      0.47      0.71\n",
      "8       9      0.55      0.73\n",
      "9      10      0.65      0.73\n",
      "10     11      0.17      0.38\n",
      "11     12      0.65      0.77\n",
      "12     13      0.55      0.75\n"
     ]
    }
   ],
   "source": [
    "print data"
   ]
  },
  {
   "cell_type": "markdown",
   "metadata": {},
   "source": [
    "Удалим 9 и 10 измерения в силу выброса, далее это обсудим подробнее \n",
    "\n",
    "feature1 = $m,~g$\n",
    "\n",
    "feature2 = $U_{isu},~B$\n",
    "\n",
    "feature3 = $F,~g \\cdot cm \\cdot s^{-2}$ = feature1 $\\cdot 10^{3}$\n",
    "\n",
    "feature4 = $U_{isu}^2,~B^2$\n",
    "\n",
    "feature5 = $2 d \\sqrt{\\frac{2 \\pi F}{S}},~g^{1/2} {cm}^{1/2} s^{-1}~=~U_{cgs}$\n",
    "\n",
    "feature6 = $\\sigma_F^{syst}~=~0.03 \\cdot feature3$ \n",
    "\n",
    "feature7 = $\\sigma_{U^2}^{syst}~=~2U \\sigma^{syst}_u $\n",
    "\n",
    "feature8 = $\\sigma_{U_{cgs}}^{syst}$"
   ]
  },
  {
   "cell_type": "code",
   "execution_count": 5,
   "metadata": {
    "collapsed": true
   },
   "outputs": [],
   "source": [
    "d = 0.16\n",
    "sigma_syst_d = 0.01\n",
    "s = 42 \n",
    "sigma_syst_s = 1\n",
    "epsilon_syst_m = 0.03\n",
    "sigma_syst_u = 0.02"
   ]
  },
  {
   "cell_type": "code",
   "execution_count": 6,
   "metadata": {
    "collapsed": true
   },
   "outputs": [],
   "source": [
    "data['feature2'] = data['feature2']*1000"
   ]
  },
  {
   "cell_type": "code",
   "execution_count": 7,
   "metadata": {
    "collapsed": false
   },
   "outputs": [],
   "source": [
    "data.insert(3, 'feature3', data['feature1']*1000)"
   ]
  },
  {
   "cell_type": "code",
   "execution_count": 8,
   "metadata": {
    "collapsed": false
   },
   "outputs": [],
   "source": [
    "data.insert(4, 'feature4', data['feature2']*data['feature2'])"
   ]
  },
  {
   "cell_type": "code",
   "execution_count": 30,
   "metadata": {
    "collapsed": false
   },
   "outputs": [
    {
     "name": "stdout",
     "output_type": "stream",
     "text": [
      "    index  feature1  feature2  feature3  feature4  feature5  feature6  \\\n",
      "0       1      0.07       270        70     72900  1.035534       2.1   \n",
      "1       2      0.12       350       120    122500  1.355832       3.6   \n",
      "2       3      0.20       450       200    202500  1.750372       6.0   \n",
      "3       4      0.27       520       270    270400  2.033748       8.1   \n",
      "4       5      0.32       570       320    324900  2.214064       9.6   \n",
      "5       6      0.37       610       370    372100  2.380763      11.1   \n",
      "6       7      0.42       650       420    422500  2.536529      12.6   \n",
      "7       8      0.47       710       470    504100  2.683269      14.1   \n",
      "10     11      0.17       380       170    144400  1.613763       5.1   \n",
      "11     12      0.65       770       650    592900  3.155527      19.5   \n",
      "12     13      0.55       750       550    562500  2.902663      16.5   \n",
      "\n",
      "    feature7  feature8  empty  \n",
      "0      10800  0.069344      1  \n",
      "1      14000  0.088924      1  \n",
      "2      18000  0.113015      1  \n",
      "3      20800  0.130368      1  \n",
      "4      22800  0.141437      1  \n",
      "5      24400  0.151687      1  \n",
      "6      26000  0.161278      1  \n",
      "7      28400  0.170325      1  \n",
      "10     15200  0.104666      1  \n",
      "11     30800  0.199500      1  \n",
      "12     30000  0.183868      1  \n"
     ]
    }
   ],
   "source": [
    "print data"
   ]
  },
  {
   "cell_type": "code",
   "execution_count": 10,
   "metadata": {
    "collapsed": false
   },
   "outputs": [],
   "source": [
    "data.insert(5, 'feature5', data['feature3'].apply(np.sqrt)*2*d*math.sqrt(2*math.pi/s))"
   ]
  },
  {
   "cell_type": "code",
   "execution_count": 11,
   "metadata": {
    "collapsed": true
   },
   "outputs": [],
   "source": [
    "data.insert(6, 'feature6', data['feature3']*epsilon_syst_m)"
   ]
  },
  {
   "cell_type": "code",
   "execution_count": 12,
   "metadata": {
    "collapsed": true
   },
   "outputs": [],
   "source": [
    "data.insert(7, 'feature7', sigma_syst_u*1000 * 2 * data['feature2'])"
   ]
  },
  {
   "cell_type": "code",
   "execution_count": 13,
   "metadata": {
    "collapsed": false
   },
   "outputs": [],
   "source": [
    "data.insert(8, 'feature8', data['feature5']*(1/d*sigma_syst_d + 1/(data['feature3']+s)*0.5))"
   ]
  },
  {
   "cell_type": "code",
   "execution_count": 17,
   "metadata": {
    "collapsed": true
   },
   "outputs": [],
   "source": [
    "data.insert(9, 'empty', 1)"
   ]
  },
  {
   "cell_type": "code",
   "execution_count": 14,
   "metadata": {
    "collapsed": true
   },
   "outputs": [],
   "source": [
    "data = data.drop([9,8])"
   ]
  },
  {
   "cell_type": "markdown",
   "metadata": {
    "collapsed": true
   },
   "source": [
    "Регрессия"
   ]
  },
  {
   "cell_type": "code",
   "execution_count": 41,
   "metadata": {
    "collapsed": false
   },
   "outputs": [
    {
     "name": "stdout",
     "output_type": "stream",
     "text": [
      "                            OLS Regression Results                            \n",
      "==============================================================================\n",
      "Dep. Variable:               feature4   R-squared:                       0.985\n",
      "Model:                            OLS   Adj. R-squared:                  0.983\n",
      "Method:                 Least Squares   F-statistic:                     571.9\n",
      "Date:                Thu, 08 Sep 2016   Prob (F-statistic):           1.87e-09\n",
      "Time:                        23:52:11   Log-Likelihood:                -125.32\n",
      "No. Observations:                  11   AIC:                             254.6\n",
      "Df Residuals:                       9   BIC:                             255.4\n",
      "Df Model:                           1                                         \n",
      "Covariance Type:            nonrobust                                         \n",
      "==============================================================================\n",
      "                 coef    std err          t      P>|t|      [0.025      0.975]\n",
      "------------------------------------------------------------------------------\n",
      "Intercept   6156.5472   1.52e+04      0.405      0.695   -2.82e+04    4.05e+04\n",
      "feature3     976.1712     40.820     23.914      0.000     883.830    1068.512\n",
      "==============================================================================\n",
      "Omnibus:                        2.885   Durbin-Watson:                   2.073\n",
      "Prob(Omnibus):                  0.236   Jarque-Bera (JB):                0.740\n",
      "Skew:                          -0.573   Prob(JB):                        0.691\n",
      "Kurtosis:                       3.550   Cond. No.                         790.\n",
      "==============================================================================\n",
      "\n",
      "Warnings:\n",
      "[1] Standard Errors assume that the covariance matrix of the errors is correctly specified.\n"
     ]
    }
   ],
   "source": [
    "m1 = smf.ols('feature4 ~ feature3', \n",
    "             data=data)\n",
    "fitted = m1.fit()\n",
    "print fitted.summary()"
   ]
  },
  {
   "cell_type": "code",
   "execution_count": 66,
   "metadata": {
    "collapsed": false
   },
   "outputs": [
    {
     "ename": "ValueError",
     "evalue": "shapes (11,2) and (11,) not aligned: 2 (dim 1) != 11 (dim 0)",
     "output_type": "error",
     "traceback": [
      "\u001b[0;31m---------------------------------------------------------------------------\u001b[0m",
      "\u001b[0;31mValueError\u001b[0m                                Traceback (most recent call last)",
      "\u001b[0;32m<ipython-input-66-62c23fbd4326>\u001b[0m in \u001b[0;36m<module>\u001b[0;34m()\u001b[0m\n\u001b[0;32m----> 1\u001b[0;31m \u001b[0;32mprint\u001b[0m \u001b[0mfitted\u001b[0m\u001b[0;34m.\u001b[0m\u001b[0mmodel\u001b[0m\u001b[0;34m.\u001b[0m\u001b[0mpredict\u001b[0m\u001b[0;34m(\u001b[0m\u001b[0mdata\u001b[0m\u001b[0;34m[\u001b[0m\u001b[0;34m'feature3'\u001b[0m\u001b[0;34m]\u001b[0m\u001b[0;34m)\u001b[0m\u001b[0;34m\u001b[0m\u001b[0m\n\u001b[0m",
      "\u001b[0;32m/Users/heyfaraday/anaconda/envs/new2/lib/python2.7/site-packages/statsmodels-0.8.0rc1-py2.7-macosx-10.6-x86_64.egg/statsmodels/regression/linear_model.pyc\u001b[0m in \u001b[0;36mpredict\u001b[0;34m(self, params, exog)\u001b[0m\n\u001b[1;32m    259\u001b[0m             \u001b[0mexog\u001b[0m \u001b[0;34m=\u001b[0m \u001b[0mself\u001b[0m\u001b[0;34m.\u001b[0m\u001b[0mexog\u001b[0m\u001b[0;34m\u001b[0m\u001b[0m\n\u001b[1;32m    260\u001b[0m \u001b[0;34m\u001b[0m\u001b[0m\n\u001b[0;32m--> 261\u001b[0;31m         \u001b[0;32mreturn\u001b[0m \u001b[0mnp\u001b[0m\u001b[0;34m.\u001b[0m\u001b[0mdot\u001b[0m\u001b[0;34m(\u001b[0m\u001b[0mexog\u001b[0m\u001b[0;34m,\u001b[0m \u001b[0mparams\u001b[0m\u001b[0;34m)\u001b[0m\u001b[0;34m\u001b[0m\u001b[0m\n\u001b[0m\u001b[1;32m    262\u001b[0m \u001b[0;34m\u001b[0m\u001b[0m\n\u001b[1;32m    263\u001b[0m     \u001b[0;32mdef\u001b[0m \u001b[0mget_distribution\u001b[0m\u001b[0;34m(\u001b[0m\u001b[0mself\u001b[0m\u001b[0;34m,\u001b[0m \u001b[0mparams\u001b[0m\u001b[0;34m,\u001b[0m \u001b[0mscale\u001b[0m\u001b[0;34m,\u001b[0m \u001b[0mexog\u001b[0m\u001b[0;34m=\u001b[0m\u001b[0mNone\u001b[0m\u001b[0;34m,\u001b[0m \u001b[0mdist_class\u001b[0m\u001b[0;34m=\u001b[0m\u001b[0mNone\u001b[0m\u001b[0;34m)\u001b[0m\u001b[0;34m:\u001b[0m\u001b[0;34m\u001b[0m\u001b[0m\n",
      "\u001b[0;31mValueError\u001b[0m: shapes (11,2) and (11,) not aligned: 2 (dim 1) != 11 (dim 0)"
     ]
    }
   ],
   "source": []
  },
  {
   "cell_type": "code",
   "execution_count": 35,
   "metadata": {
    "collapsed": false
   },
   "outputs": [
    {
     "name": "stdout",
     "output_type": "stream",
     "text": [
      "                            OLS Regression Results                            \n",
      "==============================================================================\n",
      "Dep. Variable:               feature2   R-squared:                       0.989\n",
      "Model:                            OLS   Adj. R-squared:                  0.988\n",
      "Method:                 Least Squares   F-statistic:                     832.4\n",
      "Date:                Thu, 08 Sep 2016   Prob (F-statistic):           3.52e-10\n",
      "Time:                        23:49:36   Log-Likelihood:                -46.566\n",
      "No. Observations:                  11   AIC:                             97.13\n",
      "Df Residuals:                       9   BIC:                             97.93\n",
      "Df Model:                           1                                         \n",
      "Covariance Type:            nonrobust                                         \n",
      "==============================================================================\n",
      "                 coef    std err          t      P>|t|      [0.025      0.975]\n",
      "------------------------------------------------------------------------------\n",
      "Intercept      2.6800     19.708      0.136      0.895     -41.904      47.264\n",
      "feature5     253.5924      8.790     28.851      0.000     233.708     273.476\n",
      "==============================================================================\n",
      "Omnibus:                        3.749   Durbin-Watson:                   1.944\n",
      "Prob(Omnibus):                  0.153   Jarque-Bera (JB):                1.564\n",
      "Skew:                          -0.917   Prob(JB):                        0.457\n",
      "Kurtosis:                       3.226   Cond. No.                         9.42\n",
      "==============================================================================\n",
      "\n",
      "Warnings:\n",
      "[1] Standard Errors assume that the covariance matrix of the errors is correctly specified.\n"
     ]
    }
   ],
   "source": [
    "m2 = smf.ols('feature2 ~ feature5', \n",
    "             data=data)\n",
    "fitted = m2.fit()\n",
    "print fitted.summary()"
   ]
  },
  {
   "cell_type": "code",
   "execution_count": 70,
   "metadata": {
    "collapsed": false
   },
   "outputs": [],
   "source": [
    "data_err = pd.DataFrame()\n",
    "data_err.insert(0, 'err', (data['feature4']-976.1712*data['feature3'])/data['feature4'])"
   ]
  },
  {
   "cell_type": "code",
   "execution_count": 71,
   "metadata": {
    "collapsed": false
   },
   "outputs": [
    {
     "name": "stdout",
     "output_type": "stream",
     "text": [
      "         err\n",
      "0   0.062661\n",
      "1   0.043751\n",
      "2   0.035880\n",
      "3   0.025273\n",
      "4   0.038551\n",
      "5   0.029338\n",
      "6   0.029605\n",
      "7   0.089862\n",
      "10 -0.149232\n",
      "11 -0.070183\n",
      "12  0.045521\n"
     ]
    }
   ],
   "source": [
    "print data_err"
   ]
  },
  {
   "cell_type": "code",
   "execution_count": 72,
   "metadata": {
    "collapsed": false
   },
   "outputs": [
    {
     "ename": "NameError",
     "evalue": "name 'stats' is not defined",
     "output_type": "error",
     "traceback": [
      "\u001b[0;31m---------------------------------------------------------------------------\u001b[0m",
      "\u001b[0;31mNameError\u001b[0m                                 Traceback (most recent call last)",
      "\u001b[0;32m<ipython-input-72-1033fd2880fa>\u001b[0m in \u001b[0;36m<module>\u001b[0;34m()\u001b[0m\n\u001b[0;32m----> 1\u001b[0;31m \u001b[0mstats\u001b[0m\u001b[0;34m.\u001b[0m\u001b[0mprobplot\u001b[0m\u001b[0;34m(\u001b[0m\u001b[0mdata_err\u001b[0m\u001b[0;34m,\u001b[0m \u001b[0mdist\u001b[0m \u001b[0;34m=\u001b[0m \u001b[0;34m\"norm\"\u001b[0m\u001b[0;34m,\u001b[0m \u001b[0mplot\u001b[0m \u001b[0;34m=\u001b[0m \u001b[0mpylab\u001b[0m\u001b[0;34m)\u001b[0m\u001b[0;34m\u001b[0m\u001b[0m\n\u001b[0m\u001b[1;32m      2\u001b[0m \u001b[0mpylab\u001b[0m\u001b[0;34m.\u001b[0m\u001b[0mshow\u001b[0m\u001b[0;34m(\u001b[0m\u001b[0;34m)\u001b[0m\u001b[0;34m\u001b[0m\u001b[0m\n",
      "\u001b[0;31mNameError\u001b[0m: name 'stats' is not defined"
     ]
    }
   ],
   "source": [
    "stats.probplot(data_err, dist = \"norm\", plot = pylab)\n",
    "pylab.show()"
   ]
  },
  {
   "cell_type": "code",
   "execution_count": 73,
   "metadata": {
    "collapsed": false
   },
   "outputs": [
    {
     "data": {
      "text/plain": [
       "array([[ 0.0626614 ],\n",
       "       [ 0.04375066],\n",
       "       [ 0.0358803 ],\n",
       "       [ 0.02527284],\n",
       "       [ 0.03855099],\n",
       "       [ 0.02933796],\n",
       "       [ 0.02960496],\n",
       "       [ 0.0898622 ],\n",
       "       [-0.14923202],\n",
       "       [-0.07018263],\n",
       "       [ 0.04552149]])"
      ]
     },
     "execution_count": 73,
     "metadata": {},
     "output_type": "execute_result"
    }
   ],
   "source": []
  },
  {
   "cell_type": "code",
   "execution_count": null,
   "metadata": {
    "collapsed": true
   },
   "outputs": [],
   "source": []
  }
 ],
 "metadata": {
  "anaconda-cloud": {},
  "kernelspec": {
   "display_name": "Python [new2]",
   "language": "python",
   "name": "Python [new2]"
  },
  "language_info": {
   "codemirror_mode": {
    "name": "ipython",
    "version": 2
   },
   "file_extension": ".py",
   "mimetype": "text/x-python",
   "name": "python",
   "nbconvert_exporter": "python",
   "pygments_lexer": "ipython2",
   "version": "2.7.12"
  }
 },
 "nbformat": 4,
 "nbformat_minor": 0
}
