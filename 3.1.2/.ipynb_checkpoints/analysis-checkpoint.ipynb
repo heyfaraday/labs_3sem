{
 "cells": [
  {
   "cell_type": "code",
   "execution_count": 112,
   "metadata": {
    "collapsed": false
   },
   "outputs": [],
   "source": [
    "import plotly.plotly as py\n",
    "import plotly.graph_objs as go      \n",
    "\n",
    "import pandas as pd\n",
    "import math\n",
    "import numpy as np"
   ]
  },
  {
   "cell_type": "code",
   "execution_count": 119,
   "metadata": {
    "collapsed": true
   },
   "outputs": [],
   "source": [
    "data = pd.read_csv('experiment.csv')"
   ]
  },
  {
   "cell_type": "code",
   "execution_count": 120,
   "metadata": {
    "collapsed": false
   },
   "outputs": [
    {
     "name": "stdout",
     "output_type": "stream",
     "text": [
      "    index  feature1  feature2\n",
      "0       1      0.07      0.27\n",
      "1       2      0.12      0.35\n",
      "2       3      0.20      0.45\n",
      "3       4      0.27      0.52\n",
      "4       5      0.32      0.57\n",
      "5       6      0.37      0.61\n",
      "6       7      0.42      0.65\n",
      "7       8      0.47      0.71\n",
      "8       9      0.55      0.73\n",
      "9      10      0.65      0.73\n",
      "10     11      0.17      0.38\n",
      "11     12      0.65      0.77\n",
      "12     13      0.55      0.75\n"
     ]
    }
   ],
   "source": [
    "print data"
   ]
  },
  {
   "cell_type": "markdown",
   "metadata": {},
   "source": [
    "Удалим 9 и 10 измерения в силу выброса, далее это обсудим подробнее \n",
    "\n",
    "feature1 = $m,~g$\n",
    "\n",
    "feature2 = $U_{isu},~B$\n",
    "\n",
    "feature3 = $F,~g \\cdot cm \\cdot s^{-2}$ = feature1 $\\cdot 10^{3}$\n",
    "\n",
    "feature4 = $U_{isu}^2,~B^2$\n",
    "\n",
    "feature5 = $2 d \\sqrt{\\frac{2 \\pi F}{S}},~g^{1/2} {cm}^{1/2} s^{-1}~=~U_{cgs}$\n",
    "\n",
    "feature6 = $\\sigma_F^{syst}~=~0.03 \\cdot feature3$ \n",
    "\n",
    "feature7 = $\\sigma_{U^2}^{syst}~=~2U \\sigma^{syst}_u $\n",
    "\n",
    "feature8 = $\\sigma_{U_{cgs}}^{syst}$"
   ]
  },
  {
   "cell_type": "code",
   "execution_count": 121,
   "metadata": {
    "collapsed": true
   },
   "outputs": [],
   "source": [
    "d = 0.16\n",
    "sigma_syst_d = 0.01\n",
    "s = 42 \n",
    "sigma_syst_s = 1\n",
    "epsilon_syst_m = 0.03\n",
    "sigma_syst_u = 0.02"
   ]
  },
  {
   "cell_type": "code",
   "execution_count": 122,
   "metadata": {
    "collapsed": true
   },
   "outputs": [],
   "source": [
    "data['feature2'] = data['feature2']*1000"
   ]
  },
  {
   "cell_type": "code",
   "execution_count": 123,
   "metadata": {
    "collapsed": false
   },
   "outputs": [],
   "source": [
    "data.insert(3, 'feature3', data['feature1']*1000)"
   ]
  },
  {
   "cell_type": "code",
   "execution_count": 124,
   "metadata": {
    "collapsed": false
   },
   "outputs": [],
   "source": [
    "data.insert(4, 'feature4', data['feature2']*data['feature2'])"
   ]
  },
  {
   "cell_type": "code",
   "execution_count": 125,
   "metadata": {
    "collapsed": false
   },
   "outputs": [
    {
     "name": "stdout",
     "output_type": "stream",
     "text": [
      "    index  feature1  feature2  feature3  feature4\n",
      "0       1      0.07       270        70     72900\n",
      "1       2      0.12       350       120    122500\n",
      "2       3      0.20       450       200    202500\n",
      "3       4      0.27       520       270    270400\n",
      "4       5      0.32       570       320    324900\n",
      "5       6      0.37       610       370    372100\n",
      "6       7      0.42       650       420    422500\n",
      "7       8      0.47       710       470    504100\n",
      "8       9      0.55       730       550    532900\n",
      "9      10      0.65       730       650    532900\n",
      "10     11      0.17       380       170    144400\n",
      "11     12      0.65       770       650    592900\n",
      "12     13      0.55       750       550    562500\n"
     ]
    }
   ],
   "source": [
    "print data"
   ]
  },
  {
   "cell_type": "code",
   "execution_count": 126,
   "metadata": {
    "collapsed": false
   },
   "outputs": [],
   "source": [
    "data.insert(5, 'feature5', data['feature3'].apply(np.sqrt)*2*d*math.sqrt(2*math.pi/s))"
   ]
  },
  {
   "cell_type": "code",
   "execution_count": 127,
   "metadata": {
    "collapsed": true
   },
   "outputs": [],
   "source": [
    "data.insert(6, 'feature6', data['feature3']*epsilon_syst_m)"
   ]
  },
  {
   "cell_type": "code",
   "execution_count": 128,
   "metadata": {
    "collapsed": true
   },
   "outputs": [],
   "source": [
    "data.insert(7, 'feature7', sigma_syst_u*1000 * 2 * data['feature2'])"
   ]
  },
  {
   "cell_type": "code",
   "execution_count": 129,
   "metadata": {
    "collapsed": false
   },
   "outputs": [],
   "source": [
    "data.insert(8, 'feature8', data['feature5']*(1/d*sigma_syst_d + 1/(data['feature3']+s)*0.5))"
   ]
  },
  {
   "cell_type": "code",
   "execution_count": 130,
   "metadata": {
    "collapsed": true
   },
   "outputs": [],
   "source": [
    "data = data.drop([9,8])"
   ]
  },
  {
   "cell_type": "code",
   "execution_count": null,
   "metadata": {
    "collapsed": true
   },
   "outputs": [],
   "source": []
  }
 ],
 "metadata": {
  "anaconda-cloud": {},
  "kernelspec": {
   "display_name": "Python [new2]",
   "language": "python",
   "name": "Python [new2]"
  },
  "language_info": {
   "codemirror_mode": {
    "name": "ipython",
    "version": 2
   },
   "file_extension": ".py",
   "mimetype": "text/x-python",
   "name": "python",
   "nbconvert_exporter": "python",
   "pygments_lexer": "ipython2",
   "version": "2.7.12"
  }
 },
 "nbformat": 4,
 "nbformat_minor": 0
}
