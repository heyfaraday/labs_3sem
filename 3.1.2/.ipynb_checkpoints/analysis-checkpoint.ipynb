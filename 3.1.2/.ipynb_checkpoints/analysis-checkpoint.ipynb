{
 "cells": [
  {
   "cell_type": "markdown",
   "metadata": {},
   "source": [
    "#### Обработка данных"
   ]
  },
  {
   "cell_type": "code",
   "execution_count": 1,
   "metadata": {
    "collapsed": false
   },
   "outputs": [
    {
     "name": "stdout",
     "output_type": "stream",
     "text": [
      "Populating the interactive namespace from numpy and matplotlib\n"
     ]
    },
    {
     "name": "stderr",
     "output_type": "stream",
     "text": [
      "/Users/heyfaraday/anaconda/envs/new2/lib/python2.7/site-packages/IPython/core/magics/pylab.py:161: UserWarning: pylab import has clobbered these variables: ['cosh', 'ldexp', 'hypot', 'tan', 'isnan', 'log', 'fabs', 'floor', 'sqrt', 'frexp', 'degrees', 'pi', 'log10', 'sin', 'modf', 'copysign', 'cos', 'ceil', 'isinf', 'sinh', 'trunc', 'expm1', 'e', 'tanh', 'radians', 'fmod', 'exp', 'log1p', 'gamma']\n",
      "`%matplotlib` prevents importing * from pylab and numpy\n",
      "  \"\\n`%matplotlib` prevents importing * from pylab and numpy\"\n"
     ]
    }
   ],
   "source": [
    "import pandas as pd\n",
    "import numpy as np\n",
    "from math import *\n",
    "\n",
    "%pylab inline"
   ]
  },
  {
   "cell_type": "code",
   "execution_count": 2,
   "metadata": {
    "collapsed": true
   },
   "outputs": [],
   "source": [
    "data = pd.read_csv('experiment.csv')"
   ]
  },
  {
   "cell_type": "code",
   "execution_count": 3,
   "metadata": {
    "collapsed": false
   },
   "outputs": [
    {
     "name": "stdout",
     "output_type": "stream",
     "text": [
      "   index  feature1  feature2\n",
      "0      1      0.07      0.27\n",
      "1      2      0.12      0.35\n",
      "2      3      0.20      0.45\n",
      "3      4      0.27      0.52\n",
      "4      5      0.32      0.57\n"
     ]
    }
   ],
   "source": [
    "print data.head(5)"
   ]
  },
  {
   "cell_type": "markdown",
   "metadata": {},
   "source": [
    "Удалим 9 и 10 измерения в силу выброса, далее это обсудим подробнее \n",
    "\n",
    "feature1 = $m,~g$\n",
    "\n",
    "feature2 = $U_{isu},~B$\n",
    "\n",
    "feature3 = $F,~g \\cdot cm \\cdot s^{-2}$ = feature1 $\\cdot 10^{3}$\n",
    "\n",
    "feature4 = $U_{isu}^2,~B^2$\n",
    "\n",
    "feature5 = $2 d \\sqrt{\\frac{2 \\pi F}{S}},~g^{1/2} {cm}^{1/2} s^{-1}~=~U_{cgs}$\n",
    "\n",
    "feature6 = $\\sigma_F^{syst}~=~0.03 \\cdot feature3$ \n",
    "\n",
    "feature7 = $\\sigma_{U^2}^{syst}~=~2U \\sigma^{syst}_u $\n",
    "\n",
    "feature8 = $\\sigma_{U_{cgs}}^{syst}$"
   ]
  },
  {
   "cell_type": "code",
   "execution_count": 4,
   "metadata": {
    "collapsed": true
   },
   "outputs": [],
   "source": [
    "d = 0.16\n",
    "sigma_syst_d = 0.01\n",
    "s = 42 \n",
    "sigma_syst_s = 1\n",
    "epsilon_syst_m = 0.03\n",
    "sigma_syst_u = 0.02"
   ]
  },
  {
   "cell_type": "code",
   "execution_count": 5,
   "metadata": {
    "collapsed": true
   },
   "outputs": [],
   "source": [
    "data['feature2'] = data['feature2']*1000"
   ]
  },
  {
   "cell_type": "code",
   "execution_count": 6,
   "metadata": {
    "collapsed": false
   },
   "outputs": [],
   "source": [
    "data.insert(3, 'feature3', data['feature1']*1000)"
   ]
  },
  {
   "cell_type": "code",
   "execution_count": 7,
   "metadata": {
    "collapsed": false
   },
   "outputs": [],
   "source": [
    "data.insert(4, 'feature4', data['feature2']*data['feature2'])"
   ]
  },
  {
   "cell_type": "code",
   "execution_count": 8,
   "metadata": {
    "collapsed": false
   },
   "outputs": [
    {
     "name": "stdout",
     "output_type": "stream",
     "text": [
      "   index  feature1  feature2  feature3  feature4\n",
      "0      1      0.07       270        70     72900\n",
      "1      2      0.12       350       120    122500\n",
      "2      3      0.20       450       200    202500\n",
      "3      4      0.27       520       270    270400\n",
      "4      5      0.32       570       320    324900\n"
     ]
    }
   ],
   "source": [
    "print data.head(5)"
   ]
  },
  {
   "cell_type": "code",
   "execution_count": 9,
   "metadata": {
    "collapsed": false
   },
   "outputs": [],
   "source": [
    "data.insert(5, 'feature5', data['feature3'].apply(np.sqrt)*2*d*sqrt(2*pi/s))"
   ]
  },
  {
   "cell_type": "code",
   "execution_count": 10,
   "metadata": {
    "collapsed": true
   },
   "outputs": [],
   "source": [
    "data.insert(6, 'feature6', data['feature3']*epsilon_syst_m)"
   ]
  },
  {
   "cell_type": "code",
   "execution_count": 11,
   "metadata": {
    "collapsed": true
   },
   "outputs": [],
   "source": [
    "data.insert(7, 'feature7', sigma_syst_u*1000 * 2 * data['feature2'])"
   ]
  },
  {
   "cell_type": "code",
   "execution_count": 12,
   "metadata": {
    "collapsed": false
   },
   "outputs": [],
   "source": [
    "data.insert(8, 'feature8', data['feature5']*(1/d*sigma_syst_d + 1/(data['feature3']+s)*0.5))"
   ]
  },
  {
   "cell_type": "code",
   "execution_count": 13,
   "metadata": {
    "collapsed": true
   },
   "outputs": [],
   "source": [
    "data.insert(9, 'empty', 1)"
   ]
  },
  {
   "cell_type": "code",
   "execution_count": 14,
   "metadata": {
    "collapsed": true
   },
   "outputs": [],
   "source": [
    "data = data.drop([9,8])"
   ]
  },
  {
   "cell_type": "code",
   "execution_count": 15,
   "metadata": {
    "collapsed": false
   },
   "outputs": [
    {
     "name": "stdout",
     "output_type": "stream",
     "text": [
      "   index  feature1  feature2  feature3  feature4  feature5  feature6  \\\n",
      "0      1      0.07       270        70     72900  1.035534       2.1   \n",
      "1      2      0.12       350       120    122500  1.355832       3.6   \n",
      "2      3      0.20       450       200    202500  1.750372       6.0   \n",
      "3      4      0.27       520       270    270400  2.033748       8.1   \n",
      "4      5      0.32       570       320    324900  2.214064       9.6   \n",
      "\n",
      "   feature7  feature8  empty  \n",
      "0     10800  0.069344      1  \n",
      "1     14000  0.088924      1  \n",
      "2     18000  0.113015      1  \n",
      "3     20800  0.130368      1  \n",
      "4     22800  0.141437      1  \n"
     ]
    }
   ],
   "source": [
    "print data.head(5)"
   ]
  },
  {
   "cell_type": "markdown",
   "metadata": {
    "collapsed": true
   },
   "source": [
    "#### Визуализация и информация о данных"
   ]
  },
  {
   "cell_type": "code",
   "execution_count": 20,
   "metadata": {
    "collapsed": false
   },
   "outputs": [
    {
     "data": {
      "text/html": [
       "<iframe id=\"igraph\" scrolling=\"no\" style=\"border:none;\" seamless=\"seamless\" src=\"https://plot.ly/~heyfaraday/4.embed\" height=\"525px\" width=\"100%\"></iframe>"
      ],
      "text/plain": [
       "<plotly.tools.PlotlyDisplay object>"
      ]
     },
     "execution_count": 20,
     "metadata": {},
     "output_type": "execute_result"
    }
   ],
   "source": [
    "import plotly.plotly as py\n",
    "import plotly.graph_objs as go\n",
    "\n",
    "data1 = [\n",
    "    go.Scatter(\n",
    "        x=data['feature3']*0.01,\n",
    "        y=data['feature4'],\n",
    "        mode='markers',\n",
    "        name = 'new',\n",
    "        error_y=dict(\n",
    "            type='data',\n",
    "            array=data['feature7'],\n",
    "            visible=True\n",
    "        ),\n",
    "        error_x=dict(\n",
    "            type='data',\n",
    "            array=data['feature6']*0.01,\n",
    "            visible=True\n",
    "        )\n",
    "    )\n",
    "]\n",
    "\n",
    "py.iplot(data1, filename='basic-error-bar')"
   ]
  },
  {
   "cell_type": "code",
   "execution_count": null,
   "metadata": {
    "collapsed": true
   },
   "outputs": [],
   "source": []
  }
 ],
 "metadata": {
  "anaconda-cloud": {},
  "kernelspec": {
   "display_name": "Python [new2]",
   "language": "python",
   "name": "Python [new2]"
  },
  "language_info": {
   "codemirror_mode": {
    "name": "ipython",
    "version": 2
   },
   "file_extension": ".py",
   "mimetype": "text/x-python",
   "name": "python",
   "nbconvert_exporter": "python",
   "pygments_lexer": "ipython2",
   "version": "2.7.12"
  }
 },
 "nbformat": 4,
 "nbformat_minor": 0
}
