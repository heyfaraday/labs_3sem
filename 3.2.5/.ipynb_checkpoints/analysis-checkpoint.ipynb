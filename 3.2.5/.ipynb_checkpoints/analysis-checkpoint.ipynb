{
 "cells": [
  {
   "cell_type": "code",
   "execution_count": 2,
   "metadata": {
    "collapsed": false
   },
   "outputs": [
    {
     "name": "stderr",
     "output_type": "stream",
     "text": [
      "/Users/heyfaraday/anaconda/envs/new2/lib/python2.7/site-packages/matplotlib/font_manager.py:273: UserWarning: Matplotlib is building the font cache using fc-list. This may take a moment.\n",
      "  warnings.warn('Matplotlib is building the font cache using fc-list. This may take a moment.')\n"
     ]
    },
    {
     "name": "stdout",
     "output_type": "stream",
     "text": [
      "Populating the interactive namespace from numpy and matplotlib\n"
     ]
    },
    {
     "name": "stderr",
     "output_type": "stream",
     "text": [
      "/Users/heyfaraday/anaconda/envs/new2/lib/python2.7/site-packages/IPython/core/magics/pylab.py:161: UserWarning:\n",
      "\n",
      "pylab import has clobbered these variables: ['sqrt']\n",
      "`%matplotlib` prevents importing * from pylab and numpy\n",
      "\n"
     ]
    }
   ],
   "source": [
    "import pandas as pd\n",
    "import numpy as np\n",
    "from math import sqrt\n",
    "import matplotlib.pyplot as plt\n",
    "\n",
    "import plotly.plotly as py\n",
    "import plotly.graph_objs as go\n",
    "\n",
    "from scipy import optimize as opt \n",
    "import scipy\n",
    "import scipy.odr as odr\n",
    "\n",
    "%pylab inline"
   ]
  },
  {
   "cell_type": "code",
   "execution_count": 4,
   "metadata": {
    "collapsed": false
   },
   "outputs": [],
   "source": [
    "data1 = pd.read_csv('data/experiment1.csv')\n",
    "data2 = pd.read_csv('data/experiment2.csv')"
   ]
  },
  {
   "cell_type": "code",
   "execution_count": 5,
   "metadata": {
    "collapsed": false
   },
   "outputs": [],
   "source": [
    "data1['U'] = data1['U']/10\n",
    "data2['U_R'] = data2['U_R']/10\n",
    "data1['nu'] = data1['nu']/1550\n",
    "data2['nu_R'] = data2['nu_R']/1550"
   ]
  },
  {
   "cell_type": "code",
   "execution_count": null,
   "metadata": {
    "collapsed": false
   },
   "outputs": [],
   "source": [
    "trace1 = go.Scatter(\n",
    "    y = data1['U'],\n",
    "    x = data1['nu'],\n",
    "    mode = 'markers',\n",
    "    name = '$I~=~0,3~mA$',\n",
    "    marker = dict(\n",
    "        size = 10,\n",
    "        opacity = 1,\n",
    "        color = '#000000',\n",
    "        symbol = 'x'\n",
    "    ),\n",
    ")\n",
    "\n",
    "trace2 = go.Scatter(\n",
    "    y = data2['U_R'],\n",
    "    x = data2['nu_R'],\n",
    "    mode = 'markers',\n",
    "    name = '$I~=~0,3~mA$',\n",
    "    marker = dict(\n",
    "        size = 10,\n",
    "        opacity = 1,\n",
    "        color = '#000000'\n",
    "    ),\n",
    ")\n",
    "\n",
    "trace3 = go.Scatter(\n",
    "    y = [1/sqrt(2), 1/sqrt(2)],\n",
    "    x = [1300/1550.0, 2000/1550.0],\n",
    "    mode = 'scatter',\n",
    "    name = '$I~=~0,3~mA$',\n",
    "    line = dict(\n",
    "        color = ('rgb(205, 12, 24)'),\n",
    "        width = 3,\n",
    "        dash = 'dash'),\n",
    ")\n",
    "\n",
    "trace0 = [trace1, trace2]\n",
    "\n",
    "layout = go.Layout(\n",
    "    showlegend=False,\n",
    "    title = \"График.1\",\n",
    "    width = 1200,\n",
    "    height = 1200,\n",
    "    font = dict(\n",
    "        size = 30,\n",
    "        color = '#000000'\n",
    "        ),\n",
    "    paper_bgcolor = '#ffffff',\n",
    "    xaxis = dict(\n",
    "        title = '$ν/ν_0$',\n",
    "        #range = [0.0, 42.0],\n",
    "        zeroline = False,\n",
    "        ticklen = 0,\n",
    "        color = '#000000',\n",
    "        mirror = True,\n",
    "        showline = True,\n",
    "        linewidth = 2,\n",
    "        titlefont = dict(\n",
    "            size = 40,\n",
    "            color = '#000000' \n",
    "            )\n",
    "    ),\n",
    "    yaxis = dict(\n",
    "        title = '$U/U_0$',\n",
    "        #range = [0, 11],\n",
    "        zeroline = False,\n",
    "        ticklen = 0,\n",
    "        color = '#000000',\n",
    "        mirror = True,\n",
    "        showline = True,\n",
    "        linewidth = 2,\n",
    "        titlefont = dict(\n",
    "            size = 40,\n",
    "            color = '#000000' \n",
    "            )\n",
    "    ),\n",
    "    margin = dict(\n",
    "        l = 120,\n",
    "        r = 23,\n",
    "        t = 70,\n",
    "        b = 100,\n",
    "        pad = 0 \n",
    "    ),\n",
    ")\n",
    "\n",
    "fig = go.Figure(data=trace0, layout=layout)\n",
    "#py.iplot(fig, filename='basic-error-bar')\n",
    "py.image.save_as(fig, 'my_plot1.png')\n",
    "#! open my_plot.png\n",
    "from IPython.display import Image\n",
    "Image(\"my_plot1.png\", width=400)"
   ]
  },
  {
   "cell_type": "code",
   "execution_count": null,
   "metadata": {
    "collapsed": false
   },
   "outputs": [],
   "source": [
    "trace1 = go.Scatter(\n",
    "    y = data1['U'],\n",
    "    x = data1['nu'],\n",
    "    mode = 'markers',\n",
    "    name = '$I~=~0,3~mA$',\n",
    "    marker = dict(\n",
    "        size = 10,\n",
    "        opacity = 1,\n",
    "        color = '#000000',\n",
    "        symbol = 'x'\n",
    "    ),\n",
    ")\n",
    "\n",
    "trace3 = go.Scatter(\n",
    "    y = [1/sqrt(2), 1/sqrt(2)],\n",
    "    x = [1300/1550.0, 2000/1550.0],\n",
    "    mode = 'scatter',\n",
    "    name = '$I~=~0,3~mA$',\n",
    "    line = dict(\n",
    "        color = ('rgb(205, 12, 24)'),\n",
    "        width = 3,\n",
    "        dash = 'dash'),\n",
    ")\n",
    "\n",
    "trace4 = go.Scatter(\n",
    "    y = [0.48, 0.74],\n",
    "    x = [0.974, 0.9864],\n",
    "    mode = 'scatter',\n",
    "    name = '$I~=~0,3~mA$',\n",
    "    line = dict(\n",
    "        color = ('rgb(205, 12, 24)'),\n",
    "        width = 3,\n",
    "        dash = 'dash'),\n",
    ")\n",
    "\n",
    "trace5 = go.Scatter(\n",
    "    y = [0.86, 0.6],\n",
    "    x = [1.008, 1.021],\n",
    "    mode = 'scatter',\n",
    "    name = '$I~=~0,3~mA$',\n",
    "    line = dict(\n",
    "        color = ('rgb(205, 12, 24)'),\n",
    "        width = 3,\n",
    "        dash = 'dash'),\n",
    ")\n",
    "\n",
    "trace0 = [trace1, trace3, trace4, trace5]\n",
    "\n",
    "layout = go.Layout(\n",
    "    showlegend=False,\n",
    "    title = \"График.2\",\n",
    "    width = 1200,\n",
    "    height = 1200,\n",
    "    font = dict(\n",
    "        size = 30,\n",
    "        color = '#000000'\n",
    "        ),\n",
    "    paper_bgcolor = '#ffffff',\n",
    "    xaxis = dict(\n",
    "        title = '$ν/ν_0$',\n",
    "        range = [0.9, 1.1],\n",
    "        zeroline = False,\n",
    "        ticklen = 0,\n",
    "        color = '#000000',\n",
    "        mirror = True,\n",
    "        showline = True,\n",
    "        linewidth = 2,\n",
    "        titlefont = dict(\n",
    "            size = 40,\n",
    "            color = '#000000' \n",
    "            )\n",
    "    ),\n",
    "    yaxis = dict(\n",
    "        title = '$U/U_0$',\n",
    "        #range = [0, 11],\n",
    "        zeroline = False,\n",
    "        ticklen = 0,\n",
    "        color = '#000000',\n",
    "        mirror = True,\n",
    "        showline = True,\n",
    "        linewidth = 2,\n",
    "        titlefont = dict(\n",
    "            size = 40,\n",
    "            color = '#000000' \n",
    "            )\n",
    "    ),\n",
    "    margin = dict(\n",
    "        l = 120,\n",
    "        r = 23,\n",
    "        t = 70,\n",
    "        b = 100,\n",
    "        pad = 0 \n",
    "    ),\n",
    ")\n",
    "\n",
    "fig = go.Figure(data=trace0, layout=layout)\n",
    "#py.iplot(fig, filename='basic-error-bar')\n",
    "py.image.save_as(fig, 'my_plot2.png')\n",
    "#! open my_plot.png\n",
    "from IPython.display import Image\n",
    "Image(\"my_plot2.png\", width=400)"
   ]
  },
  {
   "cell_type": "code",
   "execution_count": null,
   "metadata": {
    "collapsed": false
   },
   "outputs": [],
   "source": [
    "trace1 = go.Scatter(\n",
    "    y = data1['U'],\n",
    "    x = data1['nu'],\n",
    "    mode = 'markers',\n",
    "    name = '$I~=~0,3~mA$',\n",
    "    marker = dict(\n",
    "        size = 10,\n",
    "        opacity = 1,\n",
    "        color = '#000000',\n",
    "        symbol = 'x'\n",
    "    ),\n",
    ")\n",
    "\n",
    "trace2 = go.Scatter(\n",
    "    y = data2['U_R'],\n",
    "    x = data2['nu_R'],\n",
    "    mode = 'markers',\n",
    "    name = '$I~=~0,3~mA$',\n",
    "    marker = dict(\n",
    "        size = 10,\n",
    "        opacity = 1,\n",
    "        color = '#000000'\n",
    "    ),\n",
    ")\n",
    "\n",
    "trace3 = go.Scatter(\n",
    "    y = [1/sqrt(2), 1/sqrt(2)],\n",
    "    x = [1300/1550.0, 2000/1550.0],\n",
    "    mode = 'scatter',\n",
    "    name = '$I~=~0,3~mA$',\n",
    "    line = dict(\n",
    "        color = ('rgb(205, 12, 24)'),\n",
    "        width = 3,\n",
    "        dash = 'dash'),\n",
    ")\n",
    "\n",
    "trace4 = go.Scatter(\n",
    "    y = [0.76, 0.68],\n",
    "    x = [0.954, 0.941],\n",
    "    mode = 'scatter',\n",
    "    name = '$I~=~0,3~mA$',\n",
    "    line = dict(\n",
    "        color = ('rgb(205, 12, 24)'),\n",
    "        width = 3,\n",
    "        dash = 'dash'),\n",
    ")\n",
    "trace5 = go.Scatter(\n",
    "    y = [0.78, 0.7],\n",
    "    x = [1.055, 1.076],\n",
    "    mode = 'scatter',\n",
    "    name = '$I~=~0,3~mA$',\n",
    "    line = dict(\n",
    "        color = ('rgb(205, 12, 24)'),\n",
    "        width = 3,\n",
    "        dash = 'dash'),\n",
    ")\n",
    "\n",
    "trace0 = [trace2, trace3, trace4, trace5]\n",
    "\n",
    "layout = go.Layout(\n",
    "    showlegend=False,\n",
    "    title = \"График.3\",\n",
    "    width = 1200,\n",
    "    height = 1200,\n",
    "    font = dict(\n",
    "        size = 30,\n",
    "        color = '#000000'\n",
    "        ),\n",
    "    paper_bgcolor = '#ffffff',\n",
    "    xaxis = dict(\n",
    "        title = '$ν/ν_0$',\n",
    "        #range = [0.0, 42.0],\n",
    "        zeroline = False,\n",
    "        ticklen = 0,\n",
    "        color = '#000000',\n",
    "        mirror = True,\n",
    "        showline = True,\n",
    "        linewidth = 2,\n",
    "        titlefont = dict(\n",
    "            size = 40,\n",
    "            color = '#000000' \n",
    "            )\n",
    "    ),\n",
    "    yaxis = dict(\n",
    "        title = '$U/U_0$',\n",
    "        #range = [0, 11],\n",
    "        zeroline = False,\n",
    "        ticklen = 0,\n",
    "        color = '#000000',\n",
    "        mirror = True,\n",
    "        showline = True,\n",
    "        linewidth = 2,\n",
    "        titlefont = dict(\n",
    "            size = 40,\n",
    "            color = '#000000' \n",
    "            )\n",
    "    ),\n",
    "    margin = dict(\n",
    "        l = 120,\n",
    "        r = 23,\n",
    "        t = 70,\n",
    "        b = 100,\n",
    "        pad = 0 \n",
    "    ),\n",
    ")\n",
    "\n",
    "fig = go.Figure(data=trace0, layout=layout)\n",
    "#py.iplot(fig, filename='basic-error-bar')\n",
    "py.image.save_as(fig, 'my_plot3.png')\n",
    "#! open my_plot.png\n",
    "from IPython.display import Image\n",
    "Image(\"my_plot3.png\", width=400)"
   ]
  },
  {
   "cell_type": "code",
   "execution_count": null,
   "metadata": {
    "collapsed": true
   },
   "outputs": [],
   "source": [
    "from scipy.interpolate import interp1d"
   ]
  },
  {
   "cell_type": "code",
   "execution_count": null,
   "metadata": {
    "collapsed": false
   },
   "outputs": [],
   "source": [
    "f = interp1d(data2['nu_R'], data2['U_R'], kind = 'cubic', bounds_error=False)\n",
    "vecf = np.vectorize(f)"
   ]
  },
  {
   "cell_type": "code",
   "execution_count": null,
   "metadata": {
    "collapsed": false
   },
   "outputs": [],
   "source": [
    "plt.figure(1, figsize=(10,10))\n",
    "xnew = np.linspace(1300, 2000, 100)\n",
    "plt.plot(data2['nu_R'], data2['U_R'], 'o', xnew, f(xnew), '--')"
   ]
  },
  {
   "cell_type": "code",
   "execution_count": null,
   "metadata": {
    "collapsed": true
   },
   "outputs": [],
   "source": [
    "import matplotlib.pyplot as plt\n",
    "import seaborn as sns\n",
    "\n",
    "sns.set_style(\"whitegrid\")"
   ]
  },
  {
   "cell_type": "code",
   "execution_count": null,
   "metadata": {
    "collapsed": false
   },
   "outputs": [],
   "source": [
    "fig1 = plt.figure(1, figsize=(10,10))\n",
    "ax1 = fig1.add_subplot(111)\n",
    "\n",
    "plt.tick_params(axis='both', which='major', labelsize=16)\n",
    "\n",
    "plt.ylim(0,1.1)\n",
    "\n",
    "plt.ylabel(r'$\\mathrm{\\alpha \\ (distance \\ weighted)}$', {'fontsize': 20})\n",
    "plt.xlabel(r'$\\mathrm{\\alpha \\ (distance \\ weighted)}$', {'fontsize': 20})\n",
    "\n",
    "ax1.errorbar(data2['nu_R'], data2['U_R'], yerr=0.04, fmt='bo')\n",
    "\n",
    "fig2 = plt.figure(2, figsize=(10, 4))\n",
    "ax2 = fig2.add_subplot(111)\n",
    "ax2.errorbar(data2['nu_R'], data2['U_R'], yerr=0.04, fmt='bo')"
   ]
  },
  {
   "cell_type": "code",
   "execution_count": null,
   "metadata": {
    "collapsed": false
   },
   "outputs": [],
   "source": [
    "fig1 = plt.figure(1, figsize=(10,10))\n",
    "ax1 = plt.subplot(211)\n",
    "\n",
    "plt.tick_params(axis='both', which='major', labelsize=10)\n",
    "\n",
    "plt.ylim(0,1.1)\n",
    "plt.ylabel(r'$\\mathrm{\\alpha \\ (distance \\ weighted)}$', {'fontsize': 14})\n",
    "ax1.errorbar(data2['nu_R'], data2['U_R'], yerr=0.04, xerr=50/1550, fmt='bo')\n",
    "\n",
    "fig1.savefig('yourfilename.png', dpi = 300)\n",
    "\n",
    "fig2 = plt.figure(2, figsize=(10,5))\n",
    "ax2 = plt.subplot(212)\n",
    "\n",
    "plt.tick_params(axis='both', which='major', labelsize=10)\n",
    "\n",
    "plt.ylim(0,1.1)\n",
    "plt.ylabel(r'$F$', {'fontsize': 14})\n",
    "plt.xlabel(r'$\\mathrm{\\alpha \\ (distance \\ weighted)}$', {'fontsize': 14})\n",
    "ax2.errorbar(data2['nu_R'], data2['U_R'], yerr=0.04, xerr=50/1550, fmt='bo')"
   ]
  },
  {
   "cell_type": "code",
   "execution_count": null,
   "metadata": {
    "collapsed": false
   },
   "outputs": [],
   "source": [
    "import numpy as np\n",
    "import matplotlib.pyplot as plt\n",
    "\n",
    "\n",
    "x1 = np.linspace(0.0, 5.0)\n",
    "x2 = np.linspace(0.0, 2.0)\n",
    "\n",
    "y1 = np.cos(2 * np.pi * x1) * np.exp(-x1)\n",
    "y2 = np.cos(2 * np.pi * x2)\n",
    "\n",
    "plt.subplot(2, 1, 1)\n",
    "plt.plot(x1, y1, 'yo-')\n",
    "plt.title('A tale of 2 subplots')\n",
    "plt.ylabel('Damped oscillation')\n",
    "\n",
    "plt.subplot(2, 1, 2)\n",
    "plt.plot(x2, y2, 'r.-')\n",
    "plt.xlabel('time (s)')\n",
    "plt.ylabel('Undamped')\n",
    "\n",
    "plt.show()"
   ]
  },
  {
   "cell_type": "code",
   "execution_count": null,
   "metadata": {
    "collapsed": true
   },
   "outputs": [],
   "source": [
    "from math import sqrt"
   ]
  },
  {
   "cell_type": "code",
   "execution_count": null,
   "metadata": {
    "collapsed": false,
    "scrolled": true
   },
   "outputs": [],
   "source": [
    "Y = np.reshape(np.array(data2['U_R']), (1, len(np.array(data2['U_R']))))\n",
    "X = np.reshape(np.array(data2['nu_R']), (1, len(np.array(data2['nu_R']))))\n",
    "def f(x, b):\n",
    "    return 1/np.sqrt((1.0 - b*(x - 1.01)**2))\n",
    "parameters_opt_1, parameters_cov_1 = opt.curve_fit(f, X[0], Y[0])\n",
    "print (parameters_opt_1)\n",
    "print (np.sqrt(np.diag(parameters_cov_1)))"
   ]
  },
  {
   "cell_type": "code",
   "execution_count": null,
   "metadata": {
    "collapsed": false
   },
   "outputs": [],
   "source": [
    "X = np.linspace(0.8, 1.3, 100)"
   ]
  },
  {
   "cell_type": "code",
   "execution_count": null,
   "metadata": {
    "collapsed": false
   },
   "outputs": [],
   "source": [
    "Y = np.reciprocal(np.sqrt(1+228.17*(1.01-X)**2))"
   ]
  },
  {
   "cell_type": "code",
   "execution_count": null,
   "metadata": {
    "collapsed": false
   },
   "outputs": [],
   "source": [
    "trace1 = go.Scatter(\n",
    "    y = Y,\n",
    "    x = X,\n",
    "    mode = 'markers',\n",
    "    name = '$I~=~0,3~mA$',\n",
    "    marker = dict(\n",
    "        size = 10,\n",
    "        opacity = 1,\n",
    "        color = '#000000',\n",
    "        symbol = 'x'\n",
    "    ),\n",
    ")\n",
    "\n",
    "trace2 = go.Scatter(\n",
    "    y = data2['U_R'],\n",
    "    x = data2['nu_R'],\n",
    "    mode = 'markers',\n",
    "    name = '$I~=~0,3~mA$',\n",
    "    marker = dict(\n",
    "        size = 10,\n",
    "        opacity = 1,\n",
    "        color = '#000000'\n",
    "    ),\n",
    ")\n",
    "\n",
    "trace3 = go.Scatter(\n",
    "    y = X,\n",
    "    x = Y,\n",
    "    mode = 'scatter',\n",
    "    name = '$I~=~0,3~mA$',\n",
    "    line = dict(\n",
    "        color = ('rgb(205, 12, 24)'),\n",
    "        width = 3,\n",
    "        dash = 'dash'),\n",
    ")\n",
    "\n",
    "trace0 = [trace2, trace1]\n",
    "\n",
    "layout = go.Layout(\n",
    "    showlegend=False,\n",
    "    title = \"График.3\",\n",
    "    width = 1200,\n",
    "    height = 1200,\n",
    "    font = dict(\n",
    "        size = 30,\n",
    "        color = '#000000'\n",
    "        ),\n",
    "    paper_bgcolor = '#ffffff',\n",
    "    xaxis = dict(\n",
    "        title = '$ν/ν_0$',\n",
    "        #range = [0.0, 42.0],\n",
    "        zeroline = False,\n",
    "        ticklen = 0,\n",
    "        color = '#000000',\n",
    "        mirror = True,\n",
    "        showline = True,\n",
    "        linewidth = 2,\n",
    "        titlefont = dict(\n",
    "            size = 40,\n",
    "            color = '#000000' \n",
    "            )\n",
    "    ),\n",
    "    yaxis = dict(\n",
    "        title = '$U/U_0$',\n",
    "        #range = [0, 11],\n",
    "        zeroline = False,\n",
    "        ticklen = 0,\n",
    "        color = '#000000',\n",
    "        mirror = True,\n",
    "        showline = True,\n",
    "        linewidth = 2,\n",
    "        titlefont = dict(\n",
    "            size = 40,\n",
    "            color = '#000000' \n",
    "            )\n",
    "    ),\n",
    "    margin = dict(\n",
    "        l = 120,\n",
    "        r = 23,\n",
    "        t = 70,\n",
    "        b = 100,\n",
    "        pad = 0 \n",
    "    ),\n",
    ")\n",
    "\n",
    "fig = go.Figure(data=trace0, layout=layout)\n",
    "#py.iplot(fig, filename='basic-error-bar')\n",
    "py.image.save_as(fig, 'my_plot3.png')\n",
    "#! open my_plot.png\n",
    "from IPython.display import Image\n",
    "Image(\"my_plot3.png\", width=400)"
   ]
  },
  {
   "cell_type": "code",
   "execution_count": null,
   "metadata": {
    "collapsed": false,
    "scrolled": false
   },
   "outputs": [],
   "source": [
    "fig2 = plt.figure(1, figsize=(10,20))\n",
    "plt.subplot(2, 1, 1)\n",
    "plt.plot(X, Y, 'yo-')\n",
    "\n",
    "plt.subplot(2, 1, 1)\n",
    "plt.plot(data2['nu_R'], data2['U_R'], 'ro')"
   ]
  },
  {
   "cell_type": "markdown",
   "metadata": {
    "collapsed": true
   },
   "source": [
    "Чуточку интерполяции"
   ]
  },
  {
   "cell_type": "code",
   "execution_count": 1,
   "metadata": {
    "collapsed": true
   },
   "outputs": [],
   "source": [
    "from scipy.interpolate import interp1d"
   ]
  },
  {
   "cell_type": "code",
   "execution_count": 20,
   "metadata": {
    "collapsed": false
   },
   "outputs": [],
   "source": [
    "f = interp1d(data2['nu_R'], data2['U_R'], kind = 'cubic', bounds_error=False)\n",
    "vecf = np.vectorize(f)"
   ]
  },
  {
   "cell_type": "code",
   "execution_count": 27,
   "metadata": {
    "collapsed": false
   },
   "outputs": [
    {
     "data": {
      "text/plain": [
       "[<matplotlib.lines.Line2D at 0x1135af810>]"
      ]
     },
     "execution_count": 27,
     "metadata": {},
     "output_type": "execute_result"
    },
    {
     "data": {
      "image/png": "[encoded data removed]",
      "text/plain": [
       "<matplotlib.figure.Figure at 0x1135af350>"
      ]
     },
     "metadata": {},
     "output_type": "display_data"
    }
   ],
   "source": [
    "plt.figure(1, figsize=(5,5))\n",
    "xnew = np.linspace(1300, 2000, 100)/1550\n",
    "plt.plot(data2['nu_R'], data2['U_R'], 'o')\n",
    "plt.plot(xnew, f(xnew), '--')"
   ]
  }
 ],
 "metadata": {
  "anaconda-cloud": {},
  "kernelspec": {
   "display_name": "Python [new2]",
   "language": "python",
   "name": "Python [new2]"
  },
  "language_info": {
   "codemirror_mode": {
    "name": "ipython",
    "version": 2
   },
   "file_extension": ".py",
   "mimetype": "text/x-python",
   "name": "python",
   "nbconvert_exporter": "python",
   "pygments_lexer": "ipython2",
   "version": "2.7.12"
  }
 },
 "nbformat": 4,
 "nbformat_minor": 0
}
